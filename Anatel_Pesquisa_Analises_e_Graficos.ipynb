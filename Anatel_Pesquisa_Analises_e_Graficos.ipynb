{
  "nbformat": 4,
  "nbformat_minor": 0,
  "metadata": {
    "colab": {
      "provenance": [],
      "toc_visible": true,
      "authorship_tag": "ABX9TyN6QWwLhuQNZUe3DxFJ6FbI",
      "include_colab_link": true
    },
    "kernelspec": {
      "name": "python3",
      "display_name": "Python 3"
    },
    "language_info": {
      "name": "python"
    }
  },
  "cells": [
    {
      "cell_type": "markdown",
      "metadata": {
        "id": "view-in-github",
        "colab_type": "text"
      },
      "source": [
        "<a href=\"https://colab.research.google.com/github/gabrielmprata/Anatel_Reclamacoes/blob/main/Anatel_Pesquisa_Analises_e_Graficos.ipynb\" target=\"_parent\"><img src=\"https://colab.research.google.com/assets/colab-badge.svg\" alt=\"Open In Colab\"/></a>"
      ]
    },
    {
      "cell_type": "markdown",
      "source": [
        "<img loading=\"lazy\" src=\"https://cdn.jsdelivr.net/gh/devicons/devicon@latest/icons/python/python-original.svg\" width=\"40\" height=\"40\"/> <img src=\"https://cdn.jsdelivr.net/gh/devicons/devicon@latest/icons/pandas/pandas-original-wordmark.svg\" width=\"40\" height=\"40\"/>   <img loading=\"lazy\" src=\"https://cdn.jsdelivr.net/gh/devicons/devicon@latest/icons/plotly/plotly-original-wordmark.svg\" width=\"40\" height=\"40\"/>  <img loading=\"lazy\" src=\"https://cdn.jsdelivr.net/gh/devicons/devicon@latest/icons/streamlit/streamlit-original-wordmark.svg\" width=\"40\" height=\"40\"/>\n",
        "\n",
        "---\n",
        ">\n",
        "**Dev**: Gabriel Prata\n",
        ">\n",
        "**Data**: 17/09/2024\n",
        ">\n",
        "**Última modificação**: 17/09/2024\n",
        ">\n",
        "---"
      ],
      "metadata": {
        "id": "KRITOLpN0hbM"
      }
    },
    {
      "cell_type": "markdown",
      "source": [
        "![Badge em Desenvolvimento](http://img.shields.io/static/v1?label=STATUS&message=EM%20DESENVOLVIMENTO&color=GREEN&style=for-the-badge)\n",
        "\n",
        "![Badge versao](http://img.shields.io/static/v1?label=Ver.&message=v1.0&color=red&style=for-the-badge&logo=github)"
      ],
      "metadata": {
        "id": "4fxy57Cy0r2g"
      }
    },
    {
      "cell_type": "markdown",
      "source": [
        "#**<font color=#fff666 size=\"6\"> 1. Import libraries**"
      ],
      "metadata": {
        "id": "TWgiJT6D0usY"
      }
    },
    {
      "cell_type": "code",
      "execution_count": 1,
      "metadata": {
        "id": "-5l3qc-8Kljp"
      },
      "outputs": [],
      "source": [
        "# Importação de pacotes\n",
        "import pandas as pd\n",
        "import numpy as np\n",
        "import missingno as ms # para tratamento de missings\n",
        "\n",
        "#bibliotecas para visualização de dados\n",
        "import seaborn as sns\n",
        "import plotly.express as px\n",
        "import matplotlib.pyplot as plt\n",
        "\n",
        "# Configuração para não exibir os warnings\n",
        "import warnings\n",
        "warnings.filterwarnings(\"ignore\")"
      ]
    },
    {
      "cell_type": "markdown",
      "source": [
        "#**<font color=#fff666 size=\"6\"> 2. Carga dos dados**"
      ],
      "metadata": {
        "id": "O_AviRYl02-T"
      }
    },
    {
      "cell_type": "markdown",
      "source": [
        "Carga do arquivo pre-processado gerado no notebook:\n",
        ">\n",
        "[<img loading=\"lazy\" src=\"https://cdn.jsdelivr.net/gh/devicons/devicon@latest/icons/github/github-original-wordmark.svg\" width=\"40\" height=\"40\"/>](https://github.com/gabrielmprata/Anatel_Reclamacoes/blob/main/Anatel_Pesquisa_Qualidade_PreProc.ipynb)\n",
        "[<img src=\"https://img.shields.io/badge/Colab-F9AB00?style=for-the-badge&logo=googlecolab&color=525252\"/>](https://colab.research.google.com/drive/1XcwVd8iIzISfIDcQupraeRMJ3vjZaIO5?usp=sharing)"
      ],
      "metadata": {
        "id": "5NcB4pvs1eUO"
      }
    },
    {
      "cell_type": "code",
      "source": [
        "# importando datasets\n",
        "\n",
        "# URL de importação\n",
        "url   = \"https://raw.githubusercontent.com/gabrielmprata/Anatel_Reclamacoes/main/datasets/df_pesquisa.csv.bz2\"\n",
        "\n",
        "df_pesquisa = pd.read_csv(url, encoding = \"utf-8\", sep=',')\n"
      ],
      "metadata": {
        "id": "nFgOjIZy1u2p"
      },
      "execution_count": 2,
      "outputs": []
    },
    {
      "cell_type": "code",
      "source": [
        "# Valida carga\n",
        "df_pesquisa.head(2)"
      ],
      "metadata": {
        "colab": {
          "base_uri": "https://localhost:8080/",
          "height": 271
        },
        "id": "DNJSkpHI2BUJ",
        "outputId": "666d69d0-cd76-4493-a1cd-7e0566fbad26"
      },
      "execution_count": 3,
      "outputs": [
        {
          "output_type": "execute_result",
          "data": {
            "text/plain": [
              "            servico         prestadora estado          calculo questao  \\\n",
              "0  Banda Larga Fixa              CLARO     AC  Média Ponderada  QCR1_1   \n",
              "1  Banda Larga Fixa  Média Prestadoras     AC  Média Ponderada  QCR1_1   \n",
              "\n",
              "                          indicador                                    tema  \\\n",
              "0  Qualidade da Cobrança ou Recarga  Valores cobrados corretamente na conta   \n",
              "1  Qualidade da Cobrança ou Recarga  Valores cobrados corretamente na conta   \n",
              "\n",
              "                             alternativas  alternativas_valor   ano  nota  \\\n",
              "0  Valores cobrados corretamente na conta                 NaN  2023  8.22   \n",
              "1  Valores cobrados corretamente na conta                 NaN  2023  8.17   \n",
              "\n",
              "  ranking        grupo nome_estado regiao  \n",
              "0     NaN  Indicadores        Acre  Norte  \n",
              "1     NaN  Indicadores        Acre  Norte  "
            ],
            "text/html": [
              "\n",
              "  <div id=\"df-7e5977a6-e4b2-44d1-827e-2f40d0369aca\" class=\"colab-df-container\">\n",
              "    <div>\n",
              "<style scoped>\n",
              "    .dataframe tbody tr th:only-of-type {\n",
              "        vertical-align: middle;\n",
              "    }\n",
              "\n",
              "    .dataframe tbody tr th {\n",
              "        vertical-align: top;\n",
              "    }\n",
              "\n",
              "    .dataframe thead th {\n",
              "        text-align: right;\n",
              "    }\n",
              "</style>\n",
              "<table border=\"1\" class=\"dataframe\">\n",
              "  <thead>\n",
              "    <tr style=\"text-align: right;\">\n",
              "      <th></th>\n",
              "      <th>servico</th>\n",
              "      <th>prestadora</th>\n",
              "      <th>estado</th>\n",
              "      <th>calculo</th>\n",
              "      <th>questao</th>\n",
              "      <th>indicador</th>\n",
              "      <th>tema</th>\n",
              "      <th>alternativas</th>\n",
              "      <th>alternativas_valor</th>\n",
              "      <th>ano</th>\n",
              "      <th>nota</th>\n",
              "      <th>ranking</th>\n",
              "      <th>grupo</th>\n",
              "      <th>nome_estado</th>\n",
              "      <th>regiao</th>\n",
              "    </tr>\n",
              "  </thead>\n",
              "  <tbody>\n",
              "    <tr>\n",
              "      <th>0</th>\n",
              "      <td>Banda Larga Fixa</td>\n",
              "      <td>CLARO</td>\n",
              "      <td>AC</td>\n",
              "      <td>Média Ponderada</td>\n",
              "      <td>QCR1_1</td>\n",
              "      <td>Qualidade da Cobrança ou Recarga</td>\n",
              "      <td>Valores cobrados corretamente na conta</td>\n",
              "      <td>Valores cobrados corretamente na conta</td>\n",
              "      <td>NaN</td>\n",
              "      <td>2023</td>\n",
              "      <td>8.22</td>\n",
              "      <td>NaN</td>\n",
              "      <td>Indicadores</td>\n",
              "      <td>Acre</td>\n",
              "      <td>Norte</td>\n",
              "    </tr>\n",
              "    <tr>\n",
              "      <th>1</th>\n",
              "      <td>Banda Larga Fixa</td>\n",
              "      <td>Média Prestadoras</td>\n",
              "      <td>AC</td>\n",
              "      <td>Média Ponderada</td>\n",
              "      <td>QCR1_1</td>\n",
              "      <td>Qualidade da Cobrança ou Recarga</td>\n",
              "      <td>Valores cobrados corretamente na conta</td>\n",
              "      <td>Valores cobrados corretamente na conta</td>\n",
              "      <td>NaN</td>\n",
              "      <td>2023</td>\n",
              "      <td>8.17</td>\n",
              "      <td>NaN</td>\n",
              "      <td>Indicadores</td>\n",
              "      <td>Acre</td>\n",
              "      <td>Norte</td>\n",
              "    </tr>\n",
              "  </tbody>\n",
              "</table>\n",
              "</div>\n",
              "    <div class=\"colab-df-buttons\">\n",
              "\n",
              "  <div class=\"colab-df-container\">\n",
              "    <button class=\"colab-df-convert\" onclick=\"convertToInteractive('df-7e5977a6-e4b2-44d1-827e-2f40d0369aca')\"\n",
              "            title=\"Convert this dataframe to an interactive table.\"\n",
              "            style=\"display:none;\">\n",
              "\n",
              "  <svg xmlns=\"http://www.w3.org/2000/svg\" height=\"24px\" viewBox=\"0 -960 960 960\">\n",
              "    <path d=\"M120-120v-720h720v720H120Zm60-500h600v-160H180v160Zm220 220h160v-160H400v160Zm0 220h160v-160H400v160ZM180-400h160v-160H180v160Zm440 0h160v-160H620v160ZM180-180h160v-160H180v160Zm440 0h160v-160H620v160Z\"/>\n",
              "  </svg>\n",
              "    </button>\n",
              "\n",
              "  <style>\n",
              "    .colab-df-container {\n",
              "      display:flex;\n",
              "      gap: 12px;\n",
              "    }\n",
              "\n",
              "    .colab-df-convert {\n",
              "      background-color: #E8F0FE;\n",
              "      border: none;\n",
              "      border-radius: 50%;\n",
              "      cursor: pointer;\n",
              "      display: none;\n",
              "      fill: #1967D2;\n",
              "      height: 32px;\n",
              "      padding: 0 0 0 0;\n",
              "      width: 32px;\n",
              "    }\n",
              "\n",
              "    .colab-df-convert:hover {\n",
              "      background-color: #E2EBFA;\n",
              "      box-shadow: 0px 1px 2px rgba(60, 64, 67, 0.3), 0px 1px 3px 1px rgba(60, 64, 67, 0.15);\n",
              "      fill: #174EA6;\n",
              "    }\n",
              "\n",
              "    .colab-df-buttons div {\n",
              "      margin-bottom: 4px;\n",
              "    }\n",
              "\n",
              "    [theme=dark] .colab-df-convert {\n",
              "      background-color: #3B4455;\n",
              "      fill: #D2E3FC;\n",
              "    }\n",
              "\n",
              "    [theme=dark] .colab-df-convert:hover {\n",
              "      background-color: #434B5C;\n",
              "      box-shadow: 0px 1px 3px 1px rgba(0, 0, 0, 0.15);\n",
              "      filter: drop-shadow(0px 1px 2px rgba(0, 0, 0, 0.3));\n",
              "      fill: #FFFFFF;\n",
              "    }\n",
              "  </style>\n",
              "\n",
              "    <script>\n",
              "      const buttonEl =\n",
              "        document.querySelector('#df-7e5977a6-e4b2-44d1-827e-2f40d0369aca button.colab-df-convert');\n",
              "      buttonEl.style.display =\n",
              "        google.colab.kernel.accessAllowed ? 'block' : 'none';\n",
              "\n",
              "      async function convertToInteractive(key) {\n",
              "        const element = document.querySelector('#df-7e5977a6-e4b2-44d1-827e-2f40d0369aca');\n",
              "        const dataTable =\n",
              "          await google.colab.kernel.invokeFunction('convertToInteractive',\n",
              "                                                    [key], {});\n",
              "        if (!dataTable) return;\n",
              "\n",
              "        const docLinkHtml = 'Like what you see? Visit the ' +\n",
              "          '<a target=\"_blank\" href=https://colab.research.google.com/notebooks/data_table.ipynb>data table notebook</a>'\n",
              "          + ' to learn more about interactive tables.';\n",
              "        element.innerHTML = '';\n",
              "        dataTable['output_type'] = 'display_data';\n",
              "        await google.colab.output.renderOutput(dataTable, element);\n",
              "        const docLink = document.createElement('div');\n",
              "        docLink.innerHTML = docLinkHtml;\n",
              "        element.appendChild(docLink);\n",
              "      }\n",
              "    </script>\n",
              "  </div>\n",
              "\n",
              "\n",
              "<div id=\"df-ef3a6422-6212-47bf-ba5b-905ba473f8d7\">\n",
              "  <button class=\"colab-df-quickchart\" onclick=\"quickchart('df-ef3a6422-6212-47bf-ba5b-905ba473f8d7')\"\n",
              "            title=\"Suggest charts\"\n",
              "            style=\"display:none;\">\n",
              "\n",
              "<svg xmlns=\"http://www.w3.org/2000/svg\" height=\"24px\"viewBox=\"0 0 24 24\"\n",
              "     width=\"24px\">\n",
              "    <g>\n",
              "        <path d=\"M19 3H5c-1.1 0-2 .9-2 2v14c0 1.1.9 2 2 2h14c1.1 0 2-.9 2-2V5c0-1.1-.9-2-2-2zM9 17H7v-7h2v7zm4 0h-2V7h2v10zm4 0h-2v-4h2v4z\"/>\n",
              "    </g>\n",
              "</svg>\n",
              "  </button>\n",
              "\n",
              "<style>\n",
              "  .colab-df-quickchart {\n",
              "      --bg-color: #E8F0FE;\n",
              "      --fill-color: #1967D2;\n",
              "      --hover-bg-color: #E2EBFA;\n",
              "      --hover-fill-color: #174EA6;\n",
              "      --disabled-fill-color: #AAA;\n",
              "      --disabled-bg-color: #DDD;\n",
              "  }\n",
              "\n",
              "  [theme=dark] .colab-df-quickchart {\n",
              "      --bg-color: #3B4455;\n",
              "      --fill-color: #D2E3FC;\n",
              "      --hover-bg-color: #434B5C;\n",
              "      --hover-fill-color: #FFFFFF;\n",
              "      --disabled-bg-color: #3B4455;\n",
              "      --disabled-fill-color: #666;\n",
              "  }\n",
              "\n",
              "  .colab-df-quickchart {\n",
              "    background-color: var(--bg-color);\n",
              "    border: none;\n",
              "    border-radius: 50%;\n",
              "    cursor: pointer;\n",
              "    display: none;\n",
              "    fill: var(--fill-color);\n",
              "    height: 32px;\n",
              "    padding: 0;\n",
              "    width: 32px;\n",
              "  }\n",
              "\n",
              "  .colab-df-quickchart:hover {\n",
              "    background-color: var(--hover-bg-color);\n",
              "    box-shadow: 0 1px 2px rgba(60, 64, 67, 0.3), 0 1px 3px 1px rgba(60, 64, 67, 0.15);\n",
              "    fill: var(--button-hover-fill-color);\n",
              "  }\n",
              "\n",
              "  .colab-df-quickchart-complete:disabled,\n",
              "  .colab-df-quickchart-complete:disabled:hover {\n",
              "    background-color: var(--disabled-bg-color);\n",
              "    fill: var(--disabled-fill-color);\n",
              "    box-shadow: none;\n",
              "  }\n",
              "\n",
              "  .colab-df-spinner {\n",
              "    border: 2px solid var(--fill-color);\n",
              "    border-color: transparent;\n",
              "    border-bottom-color: var(--fill-color);\n",
              "    animation:\n",
              "      spin 1s steps(1) infinite;\n",
              "  }\n",
              "\n",
              "  @keyframes spin {\n",
              "    0% {\n",
              "      border-color: transparent;\n",
              "      border-bottom-color: var(--fill-color);\n",
              "      border-left-color: var(--fill-color);\n",
              "    }\n",
              "    20% {\n",
              "      border-color: transparent;\n",
              "      border-left-color: var(--fill-color);\n",
              "      border-top-color: var(--fill-color);\n",
              "    }\n",
              "    30% {\n",
              "      border-color: transparent;\n",
              "      border-left-color: var(--fill-color);\n",
              "      border-top-color: var(--fill-color);\n",
              "      border-right-color: var(--fill-color);\n",
              "    }\n",
              "    40% {\n",
              "      border-color: transparent;\n",
              "      border-right-color: var(--fill-color);\n",
              "      border-top-color: var(--fill-color);\n",
              "    }\n",
              "    60% {\n",
              "      border-color: transparent;\n",
              "      border-right-color: var(--fill-color);\n",
              "    }\n",
              "    80% {\n",
              "      border-color: transparent;\n",
              "      border-right-color: var(--fill-color);\n",
              "      border-bottom-color: var(--fill-color);\n",
              "    }\n",
              "    90% {\n",
              "      border-color: transparent;\n",
              "      border-bottom-color: var(--fill-color);\n",
              "    }\n",
              "  }\n",
              "</style>\n",
              "\n",
              "  <script>\n",
              "    async function quickchart(key) {\n",
              "      const quickchartButtonEl =\n",
              "        document.querySelector('#' + key + ' button');\n",
              "      quickchartButtonEl.disabled = true;  // To prevent multiple clicks.\n",
              "      quickchartButtonEl.classList.add('colab-df-spinner');\n",
              "      try {\n",
              "        const charts = await google.colab.kernel.invokeFunction(\n",
              "            'suggestCharts', [key], {});\n",
              "      } catch (error) {\n",
              "        console.error('Error during call to suggestCharts:', error);\n",
              "      }\n",
              "      quickchartButtonEl.classList.remove('colab-df-spinner');\n",
              "      quickchartButtonEl.classList.add('colab-df-quickchart-complete');\n",
              "    }\n",
              "    (() => {\n",
              "      let quickchartButtonEl =\n",
              "        document.querySelector('#df-ef3a6422-6212-47bf-ba5b-905ba473f8d7 button');\n",
              "      quickchartButtonEl.style.display =\n",
              "        google.colab.kernel.accessAllowed ? 'block' : 'none';\n",
              "    })();\n",
              "  </script>\n",
              "</div>\n",
              "\n",
              "    </div>\n",
              "  </div>\n"
            ],
            "application/vnd.google.colaboratory.intrinsic+json": {
              "type": "dataframe",
              "variable_name": "df_pesquisa"
            }
          },
          "metadata": {},
          "execution_count": 3
        }
      ]
    },
    {
      "cell_type": "code",
      "source": [
        "df_pesquisa.info()"
      ],
      "metadata": {
        "colab": {
          "base_uri": "https://localhost:8080/"
        },
        "id": "68IopQuS-2nr",
        "outputId": "81924f9d-8769-4e88-c12d-7e7b5147c1d5"
      },
      "execution_count": 4,
      "outputs": [
        {
          "output_type": "stream",
          "name": "stdout",
          "text": [
            "<class 'pandas.core.frame.DataFrame'>\n",
            "RangeIndex: 131775 entries, 0 to 131774\n",
            "Data columns (total 15 columns):\n",
            " #   Column              Non-Null Count   Dtype  \n",
            "---  ------              --------------   -----  \n",
            " 0   servico             131775 non-null  object \n",
            " 1   prestadora          131775 non-null  object \n",
            " 2   estado              131775 non-null  object \n",
            " 3   calculo             131775 non-null  object \n",
            " 4   questao             131775 non-null  object \n",
            " 5   indicador           131775 non-null  object \n",
            " 6   tema                131775 non-null  object \n",
            " 7   alternativas        131775 non-null  object \n",
            " 8   alternativas_valor  119987 non-null  float64\n",
            " 9   ano                 131775 non-null  int64  \n",
            " 10  nota                131775 non-null  float64\n",
            " 11  ranking             297 non-null     object \n",
            " 12  grupo               131775 non-null  object \n",
            " 13  nome_estado         119655 non-null  object \n",
            " 14  regiao              119655 non-null  object \n",
            "dtypes: float64(2), int64(1), object(12)\n",
            "memory usage: 15.1+ MB\n"
          ]
        }
      ]
    },
    {
      "cell_type": "markdown",
      "source": [
        "#**<font color=#fff666 size=\"6\"> 3. Construção dos gráficos 📊**"
      ],
      "metadata": {
        "id": "5v8I7ux32NHa"
      }
    },
    {
      "cell_type": "markdown",
      "source": [
        "###**<font color=#fff666> 3.1 Quadro resumido dos indicadores, 2023**"
      ],
      "metadata": {
        "id": "0ftNgQ56Z3U3"
      }
    },
    {
      "cell_type": "code",
      "source": [
        "df_historico_ind = (df_pesquisa[['ano',\"indicador\",'nota']]\n",
        "                    [(df_pesquisa['grupo'] == 'Indicadores') &\n",
        "                     (df_pesquisa['calculo'] == 'Média Índices') &\n",
        "                     (df_pesquisa['estado'] != 'Média Brasil') &\n",
        "                     (df_pesquisa['prestadora'] != 'Média Prestadoras')\n",
        "                     ]\n",
        "                   ).groupby(['ano',\"indicador\"])['nota'].mean().round(2).reset_index()"
      ],
      "metadata": {
        "id": "5QW3CEdY8Gyg"
      },
      "execution_count": 27,
      "outputs": []
    },
    {
      "cell_type": "code",
      "source": [
        "print('Notas dos Indicadores - Internet Fixa (Média Prestadoras/Média Brasil/2023)')\n",
        "print('--------------------------------------------------------------------------------------')\n",
        "print(' ')\n",
        "print(f\"Satisfação Geral: {df_historico_ind.nota.values[17]} -> variação: {(df_historico_ind.nota.values[17]-df_historico_ind.nota.values[11]):.2f}\")\n",
        "print(f\"Qualidade do Funcionamento: {df_historico_ind.nota.values[16]} -> variação: {(df_historico_ind.nota.values[16]-df_historico_ind.nota.values[10]):.2f}\")\n",
        "print(f\"Qualidade do Atendimento Telefônico: {df_historico_ind.nota.values[15]} -> variação: {(df_historico_ind.nota.values[15]-df_historico_ind.nota.values[9]):.2f}\")\n",
        "print(f\"Qualidade do Atendimento Digital: {df_historico_ind.nota.values[14]} -> variação: {(df_historico_ind.nota.values[14]-df_historico_ind.nota.values[8]):.2f}\")\n",
        "print(f\"Qualidade da Informação ao Consumidor: {df_historico_ind.nota.values[13]} -> variação: {(df_historico_ind.nota.values[13]-df_historico_ind.nota.values[7]):.2f}\")\n",
        "print(f\"Qualidade da Cobrança ou Recarga: {df_historico_ind.nota.values[12]} -> variação: {(df_historico_ind.nota.values[12]-df_historico_ind.nota.values[6]):.2f}\")"
      ],
      "metadata": {
        "colab": {
          "base_uri": "https://localhost:8080/"
        },
        "id": "kdoOYiIcXDR3",
        "outputId": "c7a65be8-d8cc-4f45-8392-8e02d7e457bc"
      },
      "execution_count": 28,
      "outputs": [
        {
          "output_type": "stream",
          "name": "stdout",
          "text": [
            "Notas dos Indicadores - Internet Fixa (Média Prestadoras/Média Brasil/2023)\n",
            "--------------------------------------------------------------------------------------\n",
            " \n",
            "Satisfação Geral: 7.42 -> variação: 0.29\n",
            "Qualidade do Funcionamento: 7.69 -> variação: 0.29\n",
            "Qualidade do Atendimento Telefônico: 6.76 -> variação: 0.19\n",
            "Qualidade do Atendimento Digital: 7.14 -> variação: 0.26\n",
            "Qualidade da Informação ao Consumidor: 7.26 -> variação: 0.33\n",
            "Qualidade da Cobrança ou Recarga: 8.38 -> variação: 0.15\n"
          ]
        }
      ]
    },
    {
      "cell_type": "markdown",
      "source": [
        "###**<font color=#fff666> 3.2 Histórico das notas dos indicadores, 2021-2023**"
      ],
      "metadata": {
        "id": "3C64uFwz2-P_"
      }
    },
    {
      "cell_type": "code",
      "source": [
        "fig = px.histogram(df_historico_ind, x=\"indicador\", y=\"nota\", color='ano', barmode='group',\n",
        "             labels=dict(indicador=\"Indicador\", ano=\"Ano\", nota=\"Nota\"),\n",
        "             color_discrete_sequence=px.colors.sequential.YlOrRd, text_auto='.3s',\n",
        "             template=\"plotly_dark\"\n",
        "             )\n",
        "fig.update_traces(textfont_size=12, textangle=0, textposition=\"outside\", cliponaxis=False)\n",
        "fig.show()"
      ],
      "metadata": {
        "colab": {
          "base_uri": "https://localhost:8080/",
          "height": 542
        },
        "id": "CElyYWGw99B3",
        "outputId": "2faf9b08-56a5-4436-8d50-4b3391893f84"
      },
      "execution_count": 7,
      "outputs": [
        {
          "output_type": "display_data",
          "data": {
            "text/html": [
              "<html>\n",
              "<head><meta charset=\"utf-8\" /></head>\n",
              "<body>\n",
              "    <div>            <script src=\"https://cdnjs.cloudflare.com/ajax/libs/mathjax/2.7.5/MathJax.js?config=TeX-AMS-MML_SVG\"></script><script type=\"text/javascript\">if (window.MathJax && window.MathJax.Hub && window.MathJax.Hub.Config) {window.MathJax.Hub.Config({SVG: {font: \"STIX-Web\"}});}</script>                <script type=\"text/javascript\">window.PlotlyConfig = {MathJaxConfig: 'local'};</script>\n",
              "        <script charset=\"utf-8\" src=\"https://cdn.plot.ly/plotly-2.24.1.min.js\"></script>                <div id=\"107c33b2-8527-48af-81aa-d0a3d6ea944a\" class=\"plotly-graph-div\" style=\"height:525px; width:100%;\"></div>            <script type=\"text/javascript\">                                    window.PLOTLYENV=window.PLOTLYENV || {};                                    if (document.getElementById(\"107c33b2-8527-48af-81aa-d0a3d6ea944a\")) {                    Plotly.newPlot(                        \"107c33b2-8527-48af-81aa-d0a3d6ea944a\",                        [{\"alignmentgroup\":\"True\",\"bingroup\":\"x\",\"histfunc\":\"sum\",\"hovertemplate\":\"Ano=2021\\u003cbr\\u003eIndicador=%{x}\\u003cbr\\u003esum of Nota=%{y}\\u003cextra\\u003e\\u003c\\u002fextra\\u003e\",\"legendgroup\":\"2021\",\"marker\":{\"color\":\"rgb(255,255,204)\",\"pattern\":{\"shape\":\"\"}},\"name\":\"2021\",\"offsetgroup\":\"2021\",\"orientation\":\"v\",\"showlegend\":true,\"texttemplate\":\"%{value:.3s}\",\"x\":[\"Qualidade da Cobran\\u00e7a ou Recarga\",\"Qualidade da Informa\\u00e7\\u00e3o ao Consumidor\",\"Qualidade do Atendimento Digital\",\"Qualidade do Atendimento Telef\\u00f4nico\",\"Qualidade do Funcionamento\",\"Satisfa\\u00e7\\u00e3o Geral\"],\"xaxis\":\"x\",\"y\":[7.99,6.82,6.78,6.61,7.21,6.95],\"yaxis\":\"y\",\"type\":\"histogram\",\"textfont\":{\"size\":12},\"cliponaxis\":false,\"textangle\":0,\"textposition\":\"outside\"},{\"alignmentgroup\":\"True\",\"bingroup\":\"x\",\"histfunc\":\"sum\",\"hovertemplate\":\"Ano=2022\\u003cbr\\u003eIndicador=%{x}\\u003cbr\\u003esum of Nota=%{y}\\u003cextra\\u003e\\u003c\\u002fextra\\u003e\",\"legendgroup\":\"2022\",\"marker\":{\"color\":\"rgb(255,237,160)\",\"pattern\":{\"shape\":\"\"}},\"name\":\"2022\",\"offsetgroup\":\"2022\",\"orientation\":\"v\",\"showlegend\":true,\"texttemplate\":\"%{value:.3s}\",\"x\":[\"Qualidade da Cobran\\u00e7a ou Recarga\",\"Qualidade da Informa\\u00e7\\u00e3o ao Consumidor\",\"Qualidade do Atendimento Digital\",\"Qualidade do Atendimento Telef\\u00f4nico\",\"Qualidade do Funcionamento\",\"Satisfa\\u00e7\\u00e3o Geral\"],\"xaxis\":\"x\",\"y\":[8.23,6.92,6.88,6.56,7.4,7.13],\"yaxis\":\"y\",\"type\":\"histogram\",\"textfont\":{\"size\":12},\"cliponaxis\":false,\"textangle\":0,\"textposition\":\"outside\"},{\"alignmentgroup\":\"True\",\"bingroup\":\"x\",\"histfunc\":\"sum\",\"hovertemplate\":\"Ano=2023\\u003cbr\\u003eIndicador=%{x}\\u003cbr\\u003esum of Nota=%{y}\\u003cextra\\u003e\\u003c\\u002fextra\\u003e\",\"legendgroup\":\"2023\",\"marker\":{\"color\":\"rgb(254,217,118)\",\"pattern\":{\"shape\":\"\"}},\"name\":\"2023\",\"offsetgroup\":\"2023\",\"orientation\":\"v\",\"showlegend\":true,\"texttemplate\":\"%{value:.3s}\",\"x\":[\"Qualidade da Cobran\\u00e7a ou Recarga\",\"Qualidade da Informa\\u00e7\\u00e3o ao Consumidor\",\"Qualidade do Atendimento Digital\",\"Qualidade do Atendimento Telef\\u00f4nico\",\"Qualidade do Funcionamento\",\"Satisfa\\u00e7\\u00e3o Geral\"],\"xaxis\":\"x\",\"y\":[8.38,7.25,7.14,6.75,7.69,7.42],\"yaxis\":\"y\",\"type\":\"histogram\",\"textfont\":{\"size\":12},\"cliponaxis\":false,\"textangle\":0,\"textposition\":\"outside\"}],                        {\"template\":{\"data\":{\"barpolar\":[{\"marker\":{\"line\":{\"color\":\"rgb(17,17,17)\",\"width\":0.5},\"pattern\":{\"fillmode\":\"overlay\",\"size\":10,\"solidity\":0.2}},\"type\":\"barpolar\"}],\"bar\":[{\"error_x\":{\"color\":\"#f2f5fa\"},\"error_y\":{\"color\":\"#f2f5fa\"},\"marker\":{\"line\":{\"color\":\"rgb(17,17,17)\",\"width\":0.5},\"pattern\":{\"fillmode\":\"overlay\",\"size\":10,\"solidity\":0.2}},\"type\":\"bar\"}],\"carpet\":[{\"aaxis\":{\"endlinecolor\":\"#A2B1C6\",\"gridcolor\":\"#506784\",\"linecolor\":\"#506784\",\"minorgridcolor\":\"#506784\",\"startlinecolor\":\"#A2B1C6\"},\"baxis\":{\"endlinecolor\":\"#A2B1C6\",\"gridcolor\":\"#506784\",\"linecolor\":\"#506784\",\"minorgridcolor\":\"#506784\",\"startlinecolor\":\"#A2B1C6\"},\"type\":\"carpet\"}],\"choropleth\":[{\"colorbar\":{\"outlinewidth\":0,\"ticks\":\"\"},\"type\":\"choropleth\"}],\"contourcarpet\":[{\"colorbar\":{\"outlinewidth\":0,\"ticks\":\"\"},\"type\":\"contourcarpet\"}],\"contour\":[{\"colorbar\":{\"outlinewidth\":0,\"ticks\":\"\"},\"colorscale\":[[0.0,\"#0d0887\"],[0.1111111111111111,\"#46039f\"],[0.2222222222222222,\"#7201a8\"],[0.3333333333333333,\"#9c179e\"],[0.4444444444444444,\"#bd3786\"],[0.5555555555555556,\"#d8576b\"],[0.6666666666666666,\"#ed7953\"],[0.7777777777777778,\"#fb9f3a\"],[0.8888888888888888,\"#fdca26\"],[1.0,\"#f0f921\"]],\"type\":\"contour\"}],\"heatmapgl\":[{\"colorbar\":{\"outlinewidth\":0,\"ticks\":\"\"},\"colorscale\":[[0.0,\"#0d0887\"],[0.1111111111111111,\"#46039f\"],[0.2222222222222222,\"#7201a8\"],[0.3333333333333333,\"#9c179e\"],[0.4444444444444444,\"#bd3786\"],[0.5555555555555556,\"#d8576b\"],[0.6666666666666666,\"#ed7953\"],[0.7777777777777778,\"#fb9f3a\"],[0.8888888888888888,\"#fdca26\"],[1.0,\"#f0f921\"]],\"type\":\"heatmapgl\"}],\"heatmap\":[{\"colorbar\":{\"outlinewidth\":0,\"ticks\":\"\"},\"colorscale\":[[0.0,\"#0d0887\"],[0.1111111111111111,\"#46039f\"],[0.2222222222222222,\"#7201a8\"],[0.3333333333333333,\"#9c179e\"],[0.4444444444444444,\"#bd3786\"],[0.5555555555555556,\"#d8576b\"],[0.6666666666666666,\"#ed7953\"],[0.7777777777777778,\"#fb9f3a\"],[0.8888888888888888,\"#fdca26\"],[1.0,\"#f0f921\"]],\"type\":\"heatmap\"}],\"histogram2dcontour\":[{\"colorbar\":{\"outlinewidth\":0,\"ticks\":\"\"},\"colorscale\":[[0.0,\"#0d0887\"],[0.1111111111111111,\"#46039f\"],[0.2222222222222222,\"#7201a8\"],[0.3333333333333333,\"#9c179e\"],[0.4444444444444444,\"#bd3786\"],[0.5555555555555556,\"#d8576b\"],[0.6666666666666666,\"#ed7953\"],[0.7777777777777778,\"#fb9f3a\"],[0.8888888888888888,\"#fdca26\"],[1.0,\"#f0f921\"]],\"type\":\"histogram2dcontour\"}],\"histogram2d\":[{\"colorbar\":{\"outlinewidth\":0,\"ticks\":\"\"},\"colorscale\":[[0.0,\"#0d0887\"],[0.1111111111111111,\"#46039f\"],[0.2222222222222222,\"#7201a8\"],[0.3333333333333333,\"#9c179e\"],[0.4444444444444444,\"#bd3786\"],[0.5555555555555556,\"#d8576b\"],[0.6666666666666666,\"#ed7953\"],[0.7777777777777778,\"#fb9f3a\"],[0.8888888888888888,\"#fdca26\"],[1.0,\"#f0f921\"]],\"type\":\"histogram2d\"}],\"histogram\":[{\"marker\":{\"pattern\":{\"fillmode\":\"overlay\",\"size\":10,\"solidity\":0.2}},\"type\":\"histogram\"}],\"mesh3d\":[{\"colorbar\":{\"outlinewidth\":0,\"ticks\":\"\"},\"type\":\"mesh3d\"}],\"parcoords\":[{\"line\":{\"colorbar\":{\"outlinewidth\":0,\"ticks\":\"\"}},\"type\":\"parcoords\"}],\"pie\":[{\"automargin\":true,\"type\":\"pie\"}],\"scatter3d\":[{\"line\":{\"colorbar\":{\"outlinewidth\":0,\"ticks\":\"\"}},\"marker\":{\"colorbar\":{\"outlinewidth\":0,\"ticks\":\"\"}},\"type\":\"scatter3d\"}],\"scattercarpet\":[{\"marker\":{\"colorbar\":{\"outlinewidth\":0,\"ticks\":\"\"}},\"type\":\"scattercarpet\"}],\"scattergeo\":[{\"marker\":{\"colorbar\":{\"outlinewidth\":0,\"ticks\":\"\"}},\"type\":\"scattergeo\"}],\"scattergl\":[{\"marker\":{\"line\":{\"color\":\"#283442\"}},\"type\":\"scattergl\"}],\"scattermapbox\":[{\"marker\":{\"colorbar\":{\"outlinewidth\":0,\"ticks\":\"\"}},\"type\":\"scattermapbox\"}],\"scatterpolargl\":[{\"marker\":{\"colorbar\":{\"outlinewidth\":0,\"ticks\":\"\"}},\"type\":\"scatterpolargl\"}],\"scatterpolar\":[{\"marker\":{\"colorbar\":{\"outlinewidth\":0,\"ticks\":\"\"}},\"type\":\"scatterpolar\"}],\"scatter\":[{\"marker\":{\"line\":{\"color\":\"#283442\"}},\"type\":\"scatter\"}],\"scatterternary\":[{\"marker\":{\"colorbar\":{\"outlinewidth\":0,\"ticks\":\"\"}},\"type\":\"scatterternary\"}],\"surface\":[{\"colorbar\":{\"outlinewidth\":0,\"ticks\":\"\"},\"colorscale\":[[0.0,\"#0d0887\"],[0.1111111111111111,\"#46039f\"],[0.2222222222222222,\"#7201a8\"],[0.3333333333333333,\"#9c179e\"],[0.4444444444444444,\"#bd3786\"],[0.5555555555555556,\"#d8576b\"],[0.6666666666666666,\"#ed7953\"],[0.7777777777777778,\"#fb9f3a\"],[0.8888888888888888,\"#fdca26\"],[1.0,\"#f0f921\"]],\"type\":\"surface\"}],\"table\":[{\"cells\":{\"fill\":{\"color\":\"#506784\"},\"line\":{\"color\":\"rgb(17,17,17)\"}},\"header\":{\"fill\":{\"color\":\"#2a3f5f\"},\"line\":{\"color\":\"rgb(17,17,17)\"}},\"type\":\"table\"}]},\"layout\":{\"annotationdefaults\":{\"arrowcolor\":\"#f2f5fa\",\"arrowhead\":0,\"arrowwidth\":1},\"autotypenumbers\":\"strict\",\"coloraxis\":{\"colorbar\":{\"outlinewidth\":0,\"ticks\":\"\"}},\"colorscale\":{\"diverging\":[[0,\"#8e0152\"],[0.1,\"#c51b7d\"],[0.2,\"#de77ae\"],[0.3,\"#f1b6da\"],[0.4,\"#fde0ef\"],[0.5,\"#f7f7f7\"],[0.6,\"#e6f5d0\"],[0.7,\"#b8e186\"],[0.8,\"#7fbc41\"],[0.9,\"#4d9221\"],[1,\"#276419\"]],\"sequential\":[[0.0,\"#0d0887\"],[0.1111111111111111,\"#46039f\"],[0.2222222222222222,\"#7201a8\"],[0.3333333333333333,\"#9c179e\"],[0.4444444444444444,\"#bd3786\"],[0.5555555555555556,\"#d8576b\"],[0.6666666666666666,\"#ed7953\"],[0.7777777777777778,\"#fb9f3a\"],[0.8888888888888888,\"#fdca26\"],[1.0,\"#f0f921\"]],\"sequentialminus\":[[0.0,\"#0d0887\"],[0.1111111111111111,\"#46039f\"],[0.2222222222222222,\"#7201a8\"],[0.3333333333333333,\"#9c179e\"],[0.4444444444444444,\"#bd3786\"],[0.5555555555555556,\"#d8576b\"],[0.6666666666666666,\"#ed7953\"],[0.7777777777777778,\"#fb9f3a\"],[0.8888888888888888,\"#fdca26\"],[1.0,\"#f0f921\"]]},\"colorway\":[\"#636efa\",\"#EF553B\",\"#00cc96\",\"#ab63fa\",\"#FFA15A\",\"#19d3f3\",\"#FF6692\",\"#B6E880\",\"#FF97FF\",\"#FECB52\"],\"font\":{\"color\":\"#f2f5fa\"},\"geo\":{\"bgcolor\":\"rgb(17,17,17)\",\"lakecolor\":\"rgb(17,17,17)\",\"landcolor\":\"rgb(17,17,17)\",\"showlakes\":true,\"showland\":true,\"subunitcolor\":\"#506784\"},\"hoverlabel\":{\"align\":\"left\"},\"hovermode\":\"closest\",\"mapbox\":{\"style\":\"dark\"},\"paper_bgcolor\":\"rgb(17,17,17)\",\"plot_bgcolor\":\"rgb(17,17,17)\",\"polar\":{\"angularaxis\":{\"gridcolor\":\"#506784\",\"linecolor\":\"#506784\",\"ticks\":\"\"},\"bgcolor\":\"rgb(17,17,17)\",\"radialaxis\":{\"gridcolor\":\"#506784\",\"linecolor\":\"#506784\",\"ticks\":\"\"}},\"scene\":{\"xaxis\":{\"backgroundcolor\":\"rgb(17,17,17)\",\"gridcolor\":\"#506784\",\"gridwidth\":2,\"linecolor\":\"#506784\",\"showbackground\":true,\"ticks\":\"\",\"zerolinecolor\":\"#C8D4E3\"},\"yaxis\":{\"backgroundcolor\":\"rgb(17,17,17)\",\"gridcolor\":\"#506784\",\"gridwidth\":2,\"linecolor\":\"#506784\",\"showbackground\":true,\"ticks\":\"\",\"zerolinecolor\":\"#C8D4E3\"},\"zaxis\":{\"backgroundcolor\":\"rgb(17,17,17)\",\"gridcolor\":\"#506784\",\"gridwidth\":2,\"linecolor\":\"#506784\",\"showbackground\":true,\"ticks\":\"\",\"zerolinecolor\":\"#C8D4E3\"}},\"shapedefaults\":{\"line\":{\"color\":\"#f2f5fa\"}},\"sliderdefaults\":{\"bgcolor\":\"#C8D4E3\",\"bordercolor\":\"rgb(17,17,17)\",\"borderwidth\":1,\"tickwidth\":0},\"ternary\":{\"aaxis\":{\"gridcolor\":\"#506784\",\"linecolor\":\"#506784\",\"ticks\":\"\"},\"baxis\":{\"gridcolor\":\"#506784\",\"linecolor\":\"#506784\",\"ticks\":\"\"},\"bgcolor\":\"rgb(17,17,17)\",\"caxis\":{\"gridcolor\":\"#506784\",\"linecolor\":\"#506784\",\"ticks\":\"\"}},\"title\":{\"x\":0.05},\"updatemenudefaults\":{\"bgcolor\":\"#506784\",\"borderwidth\":0},\"xaxis\":{\"automargin\":true,\"gridcolor\":\"#283442\",\"linecolor\":\"#506784\",\"ticks\":\"\",\"title\":{\"standoff\":15},\"zerolinecolor\":\"#283442\",\"zerolinewidth\":2},\"yaxis\":{\"automargin\":true,\"gridcolor\":\"#283442\",\"linecolor\":\"#506784\",\"ticks\":\"\",\"title\":{\"standoff\":15},\"zerolinecolor\":\"#283442\",\"zerolinewidth\":2}}},\"xaxis\":{\"anchor\":\"y\",\"domain\":[0.0,1.0],\"title\":{\"text\":\"Indicador\"}},\"yaxis\":{\"anchor\":\"x\",\"domain\":[0.0,1.0],\"title\":{\"text\":\"sum of Nota\"}},\"legend\":{\"title\":{\"text\":\"Ano\"},\"tracegroupgap\":0},\"margin\":{\"t\":60},\"barmode\":\"group\"},                        {\"responsive\": true}                    ).then(function(){\n",
              "                            \n",
              "var gd = document.getElementById('107c33b2-8527-48af-81aa-d0a3d6ea944a');\n",
              "var x = new MutationObserver(function (mutations, observer) {{\n",
              "        var display = window.getComputedStyle(gd).display;\n",
              "        if (!display || display === 'none') {{\n",
              "            console.log([gd, 'removed!']);\n",
              "            Plotly.purge(gd);\n",
              "            observer.disconnect();\n",
              "        }}\n",
              "}});\n",
              "\n",
              "// Listen for the removal of the full notebook cells\n",
              "var notebookContainer = gd.closest('#notebook-container');\n",
              "if (notebookContainer) {{\n",
              "    x.observe(notebookContainer, {childList: true});\n",
              "}}\n",
              "\n",
              "// Listen for the clearing of the current output cell\n",
              "var outputEl = gd.closest('.output');\n",
              "if (outputEl) {{\n",
              "    x.observe(outputEl, {childList: true});\n",
              "}}\n",
              "\n",
              "                        })                };                            </script>        </div>\n",
              "</body>\n",
              "</html>"
            ]
          },
          "metadata": {}
        }
      ]
    },
    {
      "cell_type": "markdown",
      "source": [
        "###**<font color=#fff666> 3.3 Índice de Satisfação Geral por Prestadora, 2023**"
      ],
      "metadata": {
        "id": "NXC00rusbAQ-"
      }
    },
    {
      "cell_type": "code",
      "source": [
        "df_isg_prestadora = (df_pesquisa[[\"prestadora\",'nota']]\n",
        "                    [(df_pesquisa['grupo'] == 'Indicadores') &\n",
        "                     (df_pesquisa['calculo'] == 'Média Índices') &\n",
        "                     (df_pesquisa['indicador'] == 'Satisfação Geral') &\n",
        "                     (df_pesquisa['ano'] == 2023) &\n",
        "                     (df_pesquisa['prestadora'] != 'Média Prestadoras') &\n",
        "                     (df_pesquisa['estado'] != 'Média Brasil')\n",
        "                     ]\n",
        "                   ).groupby([\"prestadora\"])['nota'].mean().round(2).reset_index()"
      ],
      "metadata": {
        "id": "EzZhz3uMblHt"
      },
      "execution_count": 8,
      "outputs": []
    },
    {
      "cell_type": "code",
      "source": [
        "# Média Brasil\n",
        "df_isg_media = (df_pesquisa[[\"prestadora\",'nota']]\n",
        "                    [(df_pesquisa['grupo'] == 'Indicadores') &\n",
        "                     (df_pesquisa['calculo'] == 'Média Índices') &\n",
        "                     (df_pesquisa['indicador'] == 'Satisfação Geral') &\n",
        "                     (df_pesquisa['ano'] == 2023) &\n",
        "                     (df_pesquisa['prestadora'] == 'Média Prestadoras') &\n",
        "                     (df_pesquisa['estado'] == 'Média Brasil')\n",
        "                     ]\n",
        "                   ).groupby([\"prestadora\"])['nota'].mean().round(2).reset_index()"
      ],
      "metadata": {
        "id": "F-g6baU_j98V"
      },
      "execution_count": 9,
      "outputs": []
    },
    {
      "cell_type": "code",
      "source": [
        "# Criando texto para a anotação no gráfico\n",
        "df_isg_media['annot'] = \"Média Brasil\" + ' ' + df_isg_media['nota'].astype(str)"
      ],
      "metadata": {
        "id": "8DQhn7rTFvuh"
      },
      "execution_count": 10,
      "outputs": []
    },
    {
      "cell_type": "code",
      "source": [
        "fig = px.bar(df_isg_prestadora.sort_values(by='nota', ascending=False), x='nota', y='prestadora', color='prestadora', orientation='h',\n",
        "             labels=dict(prestadora=\"Prestadora\", nota=\"Nota\"),\n",
        "\n",
        "             color_discrete_sequence=[\"#fff666\"],\n",
        "             template=\"plotly_dark\",  text_auto='.2s'\n",
        "\n",
        "             )\n",
        "fig.update_layout(showlegend=False)\n",
        "fig.add_vline(x=df_isg_media.nota.values[0], line_width=3, annotation_text=df_isg_media.annot.values[0],\n",
        "              annotation_position=\"top\",\n",
        "              line_dash=\"dot\", line_color=\"green\")\n",
        "fig.show()"
      ],
      "metadata": {
        "colab": {
          "base_uri": "https://localhost:8080/",
          "height": 542
        },
        "id": "NFq6m3JwccUw",
        "outputId": "f5c0bf13-884d-4868-8d20-e6b551e8ed30"
      },
      "execution_count": 11,
      "outputs": [
        {
          "output_type": "display_data",
          "data": {
            "text/html": [
              "<html>\n",
              "<head><meta charset=\"utf-8\" /></head>\n",
              "<body>\n",
              "    <div>            <script src=\"https://cdnjs.cloudflare.com/ajax/libs/mathjax/2.7.5/MathJax.js?config=TeX-AMS-MML_SVG\"></script><script type=\"text/javascript\">if (window.MathJax && window.MathJax.Hub && window.MathJax.Hub.Config) {window.MathJax.Hub.Config({SVG: {font: \"STIX-Web\"}});}</script>                <script type=\"text/javascript\">window.PlotlyConfig = {MathJaxConfig: 'local'};</script>\n",
              "        <script charset=\"utf-8\" src=\"https://cdn.plot.ly/plotly-2.24.1.min.js\"></script>                <div id=\"cd1af12e-52d4-4e1b-b21c-eb68f9da5c1d\" class=\"plotly-graph-div\" style=\"height:525px; width:100%;\"></div>            <script type=\"text/javascript\">                                    window.PLOTLYENV=window.PLOTLYENV || {};                                    if (document.getElementById(\"cd1af12e-52d4-4e1b-b21c-eb68f9da5c1d\")) {                    Plotly.newPlot(                        \"cd1af12e-52d4-4e1b-b21c-eb68f9da5c1d\",                        [{\"alignmentgroup\":\"True\",\"hovertemplate\":\"Prestadora=%{y}\\u003cbr\\u003eNota=%{x}\\u003cextra\\u003e\\u003c\\u002fextra\\u003e\",\"legendgroup\":\"BRISANET\",\"marker\":{\"color\":\"#fff666\",\"pattern\":{\"shape\":\"\"}},\"name\":\"BRISANET\",\"offsetgroup\":\"BRISANET\",\"orientation\":\"h\",\"showlegend\":true,\"textposition\":\"auto\",\"texttemplate\":\"%{x:.2s}\",\"x\":[8.31],\"xaxis\":\"x\",\"y\":[\"BRISANET\"],\"yaxis\":\"y\",\"type\":\"bar\"},{\"alignmentgroup\":\"True\",\"hovertemplate\":\"Prestadora=%{y}\\u003cbr\\u003eNota=%{x}\\u003cextra\\u003e\\u003c\\u002fextra\\u003e\",\"legendgroup\":\"BRSUPER\",\"marker\":{\"color\":\"#fff666\",\"pattern\":{\"shape\":\"\"}},\"name\":\"BRSUPER\",\"offsetgroup\":\"BRSUPER\",\"orientation\":\"h\",\"showlegend\":true,\"textposition\":\"auto\",\"texttemplate\":\"%{x:.2s}\",\"x\":[8.26],\"xaxis\":\"x\",\"y\":[\"BRSUPER\"],\"yaxis\":\"y\",\"type\":\"bar\"},{\"alignmentgroup\":\"True\",\"hovertemplate\":\"Prestadora=%{y}\\u003cbr\\u003eNota=%{x}\\u003cextra\\u003e\\u003c\\u002fextra\\u003e\",\"legendgroup\":\"UNIFIQUE\",\"marker\":{\"color\":\"#fff666\",\"pattern\":{\"shape\":\"\"}},\"name\":\"UNIFIQUE\",\"offsetgroup\":\"UNIFIQUE\",\"orientation\":\"h\",\"showlegend\":true,\"textposition\":\"auto\",\"texttemplate\":\"%{x:.2s}\",\"x\":[8.12],\"xaxis\":\"x\",\"y\":[\"UNIFIQUE\"],\"yaxis\":\"y\",\"type\":\"bar\"},{\"alignmentgroup\":\"True\",\"hovertemplate\":\"Prestadora=%{y}\\u003cbr\\u003eNota=%{x}\\u003cextra\\u003e\\u003c\\u002fextra\\u003e\",\"legendgroup\":\"GBONLINE\",\"marker\":{\"color\":\"#fff666\",\"pattern\":{\"shape\":\"\"}},\"name\":\"GBONLINE\",\"offsetgroup\":\"GBONLINE\",\"orientation\":\"h\",\"showlegend\":true,\"textposition\":\"auto\",\"texttemplate\":\"%{x:.2s}\",\"x\":[8.09],\"xaxis\":\"x\",\"y\":[\"GBONLINE\"],\"yaxis\":\"y\",\"type\":\"bar\"},{\"alignmentgroup\":\"True\",\"hovertemplate\":\"Prestadora=%{y}\\u003cbr\\u003eNota=%{x}\\u003cextra\\u003e\\u003c\\u002fextra\\u003e\",\"legendgroup\":\"PROXXIMA\",\"marker\":{\"color\":\"#fff666\",\"pattern\":{\"shape\":\"\"}},\"name\":\"PROXXIMA\",\"offsetgroup\":\"PROXXIMA\",\"orientation\":\"h\",\"showlegend\":true,\"textposition\":\"auto\",\"texttemplate\":\"%{x:.2s}\",\"x\":[7.81],\"xaxis\":\"x\",\"y\":[\"PROXXIMA\"],\"yaxis\":\"y\",\"type\":\"bar\"},{\"alignmentgroup\":\"True\",\"hovertemplate\":\"Prestadora=%{y}\\u003cbr\\u003eNota=%{x}\\u003cextra\\u003e\\u003c\\u002fextra\\u003e\",\"legendgroup\":\"VERO\",\"marker\":{\"color\":\"#fff666\",\"pattern\":{\"shape\":\"\"}},\"name\":\"VERO\",\"offsetgroup\":\"VERO\",\"orientation\":\"h\",\"showlegend\":true,\"textposition\":\"auto\",\"texttemplate\":\"%{x:.2s}\",\"x\":[7.7],\"xaxis\":\"x\",\"y\":[\"VERO\"],\"yaxis\":\"y\",\"type\":\"bar\"},{\"alignmentgroup\":\"True\",\"hovertemplate\":\"Prestadora=%{y}\\u003cbr\\u003eNota=%{x}\\u003cextra\\u003e\\u003c\\u002fextra\\u003e\",\"legendgroup\":\"OI\",\"marker\":{\"color\":\"#fff666\",\"pattern\":{\"shape\":\"\"}},\"name\":\"OI\",\"offsetgroup\":\"OI\",\"orientation\":\"h\",\"showlegend\":true,\"textposition\":\"auto\",\"texttemplate\":\"%{x:.2s}\",\"x\":[7.42],\"xaxis\":\"x\",\"y\":[\"OI\"],\"yaxis\":\"y\",\"type\":\"bar\"},{\"alignmentgroup\":\"True\",\"hovertemplate\":\"Prestadora=%{y}\\u003cbr\\u003eNota=%{x}\\u003cextra\\u003e\\u003c\\u002fextra\\u003e\",\"legendgroup\":\"TIM\",\"marker\":{\"color\":\"#fff666\",\"pattern\":{\"shape\":\"\"}},\"name\":\"TIM\",\"offsetgroup\":\"TIM\",\"orientation\":\"h\",\"showlegend\":true,\"textposition\":\"auto\",\"texttemplate\":\"%{x:.2s}\",\"x\":[7.33],\"xaxis\":\"x\",\"y\":[\"TIM\"],\"yaxis\":\"y\",\"type\":\"bar\"},{\"alignmentgroup\":\"True\",\"hovertemplate\":\"Prestadora=%{y}\\u003cbr\\u003eNota=%{x}\\u003cextra\\u003e\\u003c\\u002fextra\\u003e\",\"legendgroup\":\"VIVO\",\"marker\":{\"color\":\"#fff666\",\"pattern\":{\"shape\":\"\"}},\"name\":\"VIVO\",\"offsetgroup\":\"VIVO\",\"orientation\":\"h\",\"showlegend\":true,\"textposition\":\"auto\",\"texttemplate\":\"%{x:.2s}\",\"x\":[7.31],\"xaxis\":\"x\",\"y\":[\"VIVO\"],\"yaxis\":\"y\",\"type\":\"bar\"},{\"alignmentgroup\":\"True\",\"hovertemplate\":\"Prestadora=%{y}\\u003cbr\\u003eNota=%{x}\\u003cextra\\u003e\\u003c\\u002fextra\\u003e\",\"legendgroup\":\"VALENET\",\"marker\":{\"color\":\"#fff666\",\"pattern\":{\"shape\":\"\"}},\"name\":\"VALENET\",\"offsetgroup\":\"VALENET\",\"orientation\":\"h\",\"showlegend\":true,\"textposition\":\"auto\",\"texttemplate\":\"%{x:.2s}\",\"x\":[7.2],\"xaxis\":\"x\",\"y\":[\"VALENET\"],\"yaxis\":\"y\",\"type\":\"bar\"},{\"alignmentgroup\":\"True\",\"hovertemplate\":\"Prestadora=%{y}\\u003cbr\\u003eNota=%{x}\\u003cextra\\u003e\\u003c\\u002fextra\\u003e\",\"legendgroup\":\"SKY\",\"marker\":{\"color\":\"#fff666\",\"pattern\":{\"shape\":\"\"}},\"name\":\"SKY\",\"offsetgroup\":\"SKY\",\"orientation\":\"h\",\"showlegend\":true,\"textposition\":\"auto\",\"texttemplate\":\"%{x:.2s}\",\"x\":[7.15],\"xaxis\":\"x\",\"y\":[\"SKY\"],\"yaxis\":\"y\",\"type\":\"bar\"},{\"alignmentgroup\":\"True\",\"hovertemplate\":\"Prestadora=%{y}\\u003cbr\\u003eNota=%{x}\\u003cextra\\u003e\\u003c\\u002fextra\\u003e\",\"legendgroup\":\"CLARO\",\"marker\":{\"color\":\"#fff666\",\"pattern\":{\"shape\":\"\"}},\"name\":\"CLARO\",\"offsetgroup\":\"CLARO\",\"orientation\":\"h\",\"showlegend\":true,\"textposition\":\"auto\",\"texttemplate\":\"%{x:.2s}\",\"x\":[7.13],\"xaxis\":\"x\",\"y\":[\"CLARO\"],\"yaxis\":\"y\",\"type\":\"bar\"},{\"alignmentgroup\":\"True\",\"hovertemplate\":\"Prestadora=%{y}\\u003cbr\\u003eNota=%{x}\\u003cextra\\u003e\\u003c\\u002fextra\\u003e\",\"legendgroup\":\"ALGAR\",\"marker\":{\"color\":\"#fff666\",\"pattern\":{\"shape\":\"\"}},\"name\":\"ALGAR\",\"offsetgroup\":\"ALGAR\",\"orientation\":\"h\",\"showlegend\":true,\"textposition\":\"auto\",\"texttemplate\":\"%{x:.2s}\",\"x\":[7.1],\"xaxis\":\"x\",\"y\":[\"ALGAR\"],\"yaxis\":\"y\",\"type\":\"bar\"},{\"alignmentgroup\":\"True\",\"hovertemplate\":\"Prestadora=%{y}\\u003cbr\\u003eNota=%{x}\\u003cextra\\u003e\\u003c\\u002fextra\\u003e\",\"legendgroup\":\"LIGGA\",\"marker\":{\"color\":\"#fff666\",\"pattern\":{\"shape\":\"\"}},\"name\":\"LIGGA\",\"offsetgroup\":\"LIGGA\",\"orientation\":\"h\",\"showlegend\":true,\"textposition\":\"auto\",\"texttemplate\":\"%{x:.2s}\",\"x\":[7.03],\"xaxis\":\"x\",\"y\":[\"LIGGA\"],\"yaxis\":\"y\",\"type\":\"bar\"}],                        {\"template\":{\"data\":{\"barpolar\":[{\"marker\":{\"line\":{\"color\":\"rgb(17,17,17)\",\"width\":0.5},\"pattern\":{\"fillmode\":\"overlay\",\"size\":10,\"solidity\":0.2}},\"type\":\"barpolar\"}],\"bar\":[{\"error_x\":{\"color\":\"#f2f5fa\"},\"error_y\":{\"color\":\"#f2f5fa\"},\"marker\":{\"line\":{\"color\":\"rgb(17,17,17)\",\"width\":0.5},\"pattern\":{\"fillmode\":\"overlay\",\"size\":10,\"solidity\":0.2}},\"type\":\"bar\"}],\"carpet\":[{\"aaxis\":{\"endlinecolor\":\"#A2B1C6\",\"gridcolor\":\"#506784\",\"linecolor\":\"#506784\",\"minorgridcolor\":\"#506784\",\"startlinecolor\":\"#A2B1C6\"},\"baxis\":{\"endlinecolor\":\"#A2B1C6\",\"gridcolor\":\"#506784\",\"linecolor\":\"#506784\",\"minorgridcolor\":\"#506784\",\"startlinecolor\":\"#A2B1C6\"},\"type\":\"carpet\"}],\"choropleth\":[{\"colorbar\":{\"outlinewidth\":0,\"ticks\":\"\"},\"type\":\"choropleth\"}],\"contourcarpet\":[{\"colorbar\":{\"outlinewidth\":0,\"ticks\":\"\"},\"type\":\"contourcarpet\"}],\"contour\":[{\"colorbar\":{\"outlinewidth\":0,\"ticks\":\"\"},\"colorscale\":[[0.0,\"#0d0887\"],[0.1111111111111111,\"#46039f\"],[0.2222222222222222,\"#7201a8\"],[0.3333333333333333,\"#9c179e\"],[0.4444444444444444,\"#bd3786\"],[0.5555555555555556,\"#d8576b\"],[0.6666666666666666,\"#ed7953\"],[0.7777777777777778,\"#fb9f3a\"],[0.8888888888888888,\"#fdca26\"],[1.0,\"#f0f921\"]],\"type\":\"contour\"}],\"heatmapgl\":[{\"colorbar\":{\"outlinewidth\":0,\"ticks\":\"\"},\"colorscale\":[[0.0,\"#0d0887\"],[0.1111111111111111,\"#46039f\"],[0.2222222222222222,\"#7201a8\"],[0.3333333333333333,\"#9c179e\"],[0.4444444444444444,\"#bd3786\"],[0.5555555555555556,\"#d8576b\"],[0.6666666666666666,\"#ed7953\"],[0.7777777777777778,\"#fb9f3a\"],[0.8888888888888888,\"#fdca26\"],[1.0,\"#f0f921\"]],\"type\":\"heatmapgl\"}],\"heatmap\":[{\"colorbar\":{\"outlinewidth\":0,\"ticks\":\"\"},\"colorscale\":[[0.0,\"#0d0887\"],[0.1111111111111111,\"#46039f\"],[0.2222222222222222,\"#7201a8\"],[0.3333333333333333,\"#9c179e\"],[0.4444444444444444,\"#bd3786\"],[0.5555555555555556,\"#d8576b\"],[0.6666666666666666,\"#ed7953\"],[0.7777777777777778,\"#fb9f3a\"],[0.8888888888888888,\"#fdca26\"],[1.0,\"#f0f921\"]],\"type\":\"heatmap\"}],\"histogram2dcontour\":[{\"colorbar\":{\"outlinewidth\":0,\"ticks\":\"\"},\"colorscale\":[[0.0,\"#0d0887\"],[0.1111111111111111,\"#46039f\"],[0.2222222222222222,\"#7201a8\"],[0.3333333333333333,\"#9c179e\"],[0.4444444444444444,\"#bd3786\"],[0.5555555555555556,\"#d8576b\"],[0.6666666666666666,\"#ed7953\"],[0.7777777777777778,\"#fb9f3a\"],[0.8888888888888888,\"#fdca26\"],[1.0,\"#f0f921\"]],\"type\":\"histogram2dcontour\"}],\"histogram2d\":[{\"colorbar\":{\"outlinewidth\":0,\"ticks\":\"\"},\"colorscale\":[[0.0,\"#0d0887\"],[0.1111111111111111,\"#46039f\"],[0.2222222222222222,\"#7201a8\"],[0.3333333333333333,\"#9c179e\"],[0.4444444444444444,\"#bd3786\"],[0.5555555555555556,\"#d8576b\"],[0.6666666666666666,\"#ed7953\"],[0.7777777777777778,\"#fb9f3a\"],[0.8888888888888888,\"#fdca26\"],[1.0,\"#f0f921\"]],\"type\":\"histogram2d\"}],\"histogram\":[{\"marker\":{\"pattern\":{\"fillmode\":\"overlay\",\"size\":10,\"solidity\":0.2}},\"type\":\"histogram\"}],\"mesh3d\":[{\"colorbar\":{\"outlinewidth\":0,\"ticks\":\"\"},\"type\":\"mesh3d\"}],\"parcoords\":[{\"line\":{\"colorbar\":{\"outlinewidth\":0,\"ticks\":\"\"}},\"type\":\"parcoords\"}],\"pie\":[{\"automargin\":true,\"type\":\"pie\"}],\"scatter3d\":[{\"line\":{\"colorbar\":{\"outlinewidth\":0,\"ticks\":\"\"}},\"marker\":{\"colorbar\":{\"outlinewidth\":0,\"ticks\":\"\"}},\"type\":\"scatter3d\"}],\"scattercarpet\":[{\"marker\":{\"colorbar\":{\"outlinewidth\":0,\"ticks\":\"\"}},\"type\":\"scattercarpet\"}],\"scattergeo\":[{\"marker\":{\"colorbar\":{\"outlinewidth\":0,\"ticks\":\"\"}},\"type\":\"scattergeo\"}],\"scattergl\":[{\"marker\":{\"line\":{\"color\":\"#283442\"}},\"type\":\"scattergl\"}],\"scattermapbox\":[{\"marker\":{\"colorbar\":{\"outlinewidth\":0,\"ticks\":\"\"}},\"type\":\"scattermapbox\"}],\"scatterpolargl\":[{\"marker\":{\"colorbar\":{\"outlinewidth\":0,\"ticks\":\"\"}},\"type\":\"scatterpolargl\"}],\"scatterpolar\":[{\"marker\":{\"colorbar\":{\"outlinewidth\":0,\"ticks\":\"\"}},\"type\":\"scatterpolar\"}],\"scatter\":[{\"marker\":{\"line\":{\"color\":\"#283442\"}},\"type\":\"scatter\"}],\"scatterternary\":[{\"marker\":{\"colorbar\":{\"outlinewidth\":0,\"ticks\":\"\"}},\"type\":\"scatterternary\"}],\"surface\":[{\"colorbar\":{\"outlinewidth\":0,\"ticks\":\"\"},\"colorscale\":[[0.0,\"#0d0887\"],[0.1111111111111111,\"#46039f\"],[0.2222222222222222,\"#7201a8\"],[0.3333333333333333,\"#9c179e\"],[0.4444444444444444,\"#bd3786\"],[0.5555555555555556,\"#d8576b\"],[0.6666666666666666,\"#ed7953\"],[0.7777777777777778,\"#fb9f3a\"],[0.8888888888888888,\"#fdca26\"],[1.0,\"#f0f921\"]],\"type\":\"surface\"}],\"table\":[{\"cells\":{\"fill\":{\"color\":\"#506784\"},\"line\":{\"color\":\"rgb(17,17,17)\"}},\"header\":{\"fill\":{\"color\":\"#2a3f5f\"},\"line\":{\"color\":\"rgb(17,17,17)\"}},\"type\":\"table\"}]},\"layout\":{\"annotationdefaults\":{\"arrowcolor\":\"#f2f5fa\",\"arrowhead\":0,\"arrowwidth\":1},\"autotypenumbers\":\"strict\",\"coloraxis\":{\"colorbar\":{\"outlinewidth\":0,\"ticks\":\"\"}},\"colorscale\":{\"diverging\":[[0,\"#8e0152\"],[0.1,\"#c51b7d\"],[0.2,\"#de77ae\"],[0.3,\"#f1b6da\"],[0.4,\"#fde0ef\"],[0.5,\"#f7f7f7\"],[0.6,\"#e6f5d0\"],[0.7,\"#b8e186\"],[0.8,\"#7fbc41\"],[0.9,\"#4d9221\"],[1,\"#276419\"]],\"sequential\":[[0.0,\"#0d0887\"],[0.1111111111111111,\"#46039f\"],[0.2222222222222222,\"#7201a8\"],[0.3333333333333333,\"#9c179e\"],[0.4444444444444444,\"#bd3786\"],[0.5555555555555556,\"#d8576b\"],[0.6666666666666666,\"#ed7953\"],[0.7777777777777778,\"#fb9f3a\"],[0.8888888888888888,\"#fdca26\"],[1.0,\"#f0f921\"]],\"sequentialminus\":[[0.0,\"#0d0887\"],[0.1111111111111111,\"#46039f\"],[0.2222222222222222,\"#7201a8\"],[0.3333333333333333,\"#9c179e\"],[0.4444444444444444,\"#bd3786\"],[0.5555555555555556,\"#d8576b\"],[0.6666666666666666,\"#ed7953\"],[0.7777777777777778,\"#fb9f3a\"],[0.8888888888888888,\"#fdca26\"],[1.0,\"#f0f921\"]]},\"colorway\":[\"#636efa\",\"#EF553B\",\"#00cc96\",\"#ab63fa\",\"#FFA15A\",\"#19d3f3\",\"#FF6692\",\"#B6E880\",\"#FF97FF\",\"#FECB52\"],\"font\":{\"color\":\"#f2f5fa\"},\"geo\":{\"bgcolor\":\"rgb(17,17,17)\",\"lakecolor\":\"rgb(17,17,17)\",\"landcolor\":\"rgb(17,17,17)\",\"showlakes\":true,\"showland\":true,\"subunitcolor\":\"#506784\"},\"hoverlabel\":{\"align\":\"left\"},\"hovermode\":\"closest\",\"mapbox\":{\"style\":\"dark\"},\"paper_bgcolor\":\"rgb(17,17,17)\",\"plot_bgcolor\":\"rgb(17,17,17)\",\"polar\":{\"angularaxis\":{\"gridcolor\":\"#506784\",\"linecolor\":\"#506784\",\"ticks\":\"\"},\"bgcolor\":\"rgb(17,17,17)\",\"radialaxis\":{\"gridcolor\":\"#506784\",\"linecolor\":\"#506784\",\"ticks\":\"\"}},\"scene\":{\"xaxis\":{\"backgroundcolor\":\"rgb(17,17,17)\",\"gridcolor\":\"#506784\",\"gridwidth\":2,\"linecolor\":\"#506784\",\"showbackground\":true,\"ticks\":\"\",\"zerolinecolor\":\"#C8D4E3\"},\"yaxis\":{\"backgroundcolor\":\"rgb(17,17,17)\",\"gridcolor\":\"#506784\",\"gridwidth\":2,\"linecolor\":\"#506784\",\"showbackground\":true,\"ticks\":\"\",\"zerolinecolor\":\"#C8D4E3\"},\"zaxis\":{\"backgroundcolor\":\"rgb(17,17,17)\",\"gridcolor\":\"#506784\",\"gridwidth\":2,\"linecolor\":\"#506784\",\"showbackground\":true,\"ticks\":\"\",\"zerolinecolor\":\"#C8D4E3\"}},\"shapedefaults\":{\"line\":{\"color\":\"#f2f5fa\"}},\"sliderdefaults\":{\"bgcolor\":\"#C8D4E3\",\"bordercolor\":\"rgb(17,17,17)\",\"borderwidth\":1,\"tickwidth\":0},\"ternary\":{\"aaxis\":{\"gridcolor\":\"#506784\",\"linecolor\":\"#506784\",\"ticks\":\"\"},\"baxis\":{\"gridcolor\":\"#506784\",\"linecolor\":\"#506784\",\"ticks\":\"\"},\"bgcolor\":\"rgb(17,17,17)\",\"caxis\":{\"gridcolor\":\"#506784\",\"linecolor\":\"#506784\",\"ticks\":\"\"}},\"title\":{\"x\":0.05},\"updatemenudefaults\":{\"bgcolor\":\"#506784\",\"borderwidth\":0},\"xaxis\":{\"automargin\":true,\"gridcolor\":\"#283442\",\"linecolor\":\"#506784\",\"ticks\":\"\",\"title\":{\"standoff\":15},\"zerolinecolor\":\"#283442\",\"zerolinewidth\":2},\"yaxis\":{\"automargin\":true,\"gridcolor\":\"#283442\",\"linecolor\":\"#506784\",\"ticks\":\"\",\"title\":{\"standoff\":15},\"zerolinecolor\":\"#283442\",\"zerolinewidth\":2}}},\"xaxis\":{\"anchor\":\"y\",\"domain\":[0.0,1.0],\"title\":{\"text\":\"Nota\"}},\"yaxis\":{\"anchor\":\"x\",\"domain\":[0.0,1.0],\"title\":{\"text\":\"Prestadora\"},\"categoryorder\":\"array\",\"categoryarray\":[\"LIGGA\",\"ALGAR\",\"CLARO\",\"SKY\",\"VALENET\",\"VIVO\",\"TIM\",\"OI\",\"VERO\",\"PROXXIMA\",\"GBONLINE\",\"UNIFIQUE\",\"BRSUPER\",\"BRISANET\"]},\"legend\":{\"title\":{\"text\":\"Prestadora\"},\"tracegroupgap\":0},\"margin\":{\"t\":60},\"barmode\":\"relative\",\"showlegend\":false,\"shapes\":[{\"line\":{\"color\":\"green\",\"dash\":\"dot\",\"width\":3},\"type\":\"line\",\"x0\":7.43,\"x1\":7.43,\"xref\":\"x\",\"y0\":0,\"y1\":1,\"yref\":\"y domain\"}],\"annotations\":[{\"showarrow\":false,\"text\":\"M\\u00e9dia Brasil 7.43\",\"x\":7.43,\"xanchor\":\"center\",\"xref\":\"x\",\"y\":1,\"yanchor\":\"bottom\",\"yref\":\"y domain\"}]},                        {\"responsive\": true}                    ).then(function(){\n",
              "                            \n",
              "var gd = document.getElementById('cd1af12e-52d4-4e1b-b21c-eb68f9da5c1d');\n",
              "var x = new MutationObserver(function (mutations, observer) {{\n",
              "        var display = window.getComputedStyle(gd).display;\n",
              "        if (!display || display === 'none') {{\n",
              "            console.log([gd, 'removed!']);\n",
              "            Plotly.purge(gd);\n",
              "            observer.disconnect();\n",
              "        }}\n",
              "}});\n",
              "\n",
              "// Listen for the removal of the full notebook cells\n",
              "var notebookContainer = gd.closest('#notebook-container');\n",
              "if (notebookContainer) {{\n",
              "    x.observe(notebookContainer, {childList: true});\n",
              "}}\n",
              "\n",
              "// Listen for the clearing of the current output cell\n",
              "var outputEl = gd.closest('.output');\n",
              "if (outputEl) {{\n",
              "    x.observe(outputEl, {childList: true});\n",
              "}}\n",
              "\n",
              "                        })                };                            </script>        </div>\n",
              "</body>\n",
              "</html>"
            ]
          },
          "metadata": {}
        }
      ]
    },
    {
      "cell_type": "markdown",
      "source": [
        "###**<font color=#fff666> 3.4 Índice de Satisfação Geral por Estado, 2023**"
      ],
      "metadata": {
        "id": "hckOdR65I9SV"
      }
    },
    {
      "cell_type": "code",
      "source": [],
      "metadata": {
        "id": "NELIwwjSZFsC"
      },
      "execution_count": 11,
      "outputs": []
    }
  ]
}